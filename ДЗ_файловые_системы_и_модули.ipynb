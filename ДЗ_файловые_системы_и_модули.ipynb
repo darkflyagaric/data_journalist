{
 "cells": [
  {
   "cell_type": "code",
   "execution_count": 38,
   "metadata": {},
   "outputs": [
    {
     "name": "stdout",
     "output_type": "stream",
     "text": [
      "<_io.TextIOWrapper name='D:\\\\Netology-data\\\\Python\\\\ДЗdata-journalist\\\\Python5(файлсистема и модули)\\\\purchase_log.txt' mode='r' encoding='utf-8'>\n"
     ]
    }
   ],
   "source": [
    "#1) Переведите содержимое файла purchase_log.txt в словарь purchases вида: {‘1840e0b9d4’: ‘Продукты’, …}\n",
    "f = open('D:\\\\Netology-data\\\\Python\\\\ДЗdata-journalist\\\\Python5(файлсистема и модули)\\\\purchase_log.txt', 'r', encoding='utf-8')\n",
    "type(f)\n",
    "print(f)"
   ]
  },
  {
   "cell_type": "code",
   "execution_count": 39,
   "metadata": {},
   "outputs": [
    {
     "data": {
      "text/plain": [
       "'{\"user_id\": \"afea8d72fc\", \"category\": \"Электроника\"}\\n'"
      ]
     },
     "execution_count": 39,
     "metadata": {},
     "output_type": "execute_result"
    }
   ],
   "source": [
    "f1 = f.readlines()\n",
    "f1[3]"
   ]
  },
  {
   "cell_type": "code",
   "execution_count": 40,
   "metadata": {},
   "outputs": [],
   "source": [
    "import json"
   ]
  },
  {
   "cell_type": "code",
   "execution_count": 41,
   "metadata": {},
   "outputs": [
    {
     "name": "stdout",
     "output_type": "stream",
     "text": [
      "{'user_id': 'category', '1840e0b9d4': 'Продукты', '4e4f90fcfb': 'Электроника', 'afea8d72fc': 'Электроника', '373a6055fe': 'Бытовая техника', '9b2ab046f3': 'Электроника'}\n"
     ]
    }
   ],
   "source": [
    "i = 0\n",
    "purchases = {}\n",
    "with open('D:\\\\Netology-data\\\\Python\\\\ДЗdata-journalist\\\\Python5(файлсистема и модули)\\\\purchase_log.txt', 'r', encoding='utf-8') as f1:\n",
    "     for line in f1:\n",
    "        line = line.strip() \n",
    "        dict_ = json.loads(line) \n",
    "        key = dict_['user_id']\n",
    "        value = dict_['category']\n",
    "        purchases[key] = value\n",
    "        i = i+1\n",
    "        if i > 5:\n",
    "            break     \n",
    "print(purchases)"
   ]
  },
  {
   "cell_type": "code",
   "execution_count": 53,
   "metadata": {
    "scrolled": true
   },
   "outputs": [],
   "source": [
    "#2)Для каждого user_id в файле visit_log.csv определите третий столбец с категорией покупки \n",
    "#если покупка была, сам файл visit_log.csv изменять не надо). Запишите в файл funnel.csv визиты из файла visit_log.csv, \n",
    "#в которых были покупки с указанием категории\n",
    "i = 0\n",
    "with open('D:\\\\Netology-data\\\\Python\\\\ДЗdata-journalist\\\\Python5(файлсистема и модули)\\\\visit_log.csv', 'r', encoding='utf-8') as f2:\n",
    "    with open('D:\\\\Netology-data\\\\Python\\\\ДЗdata-journalist\\\\Python5(файлсистема и модули)\\\\funnel.csv', 'w', encoding='utf-8') as f2write:\n",
    "        for line in f2:\n",
    "            line = line.strip().split(',')\n",
    "            if line[0] in purchases.keys():\n",
    "                filter_file = [line[0]]\n",
    "                filter_file.append(purchases.get(line[0]))\n",
    "                f2write.write(str(filter_file))\n",
    "                i = i+1\n",
    "                if i > 5:\n",
    "                    break"
   ]
  },
  {
   "cell_type": "code",
   "execution_count": null,
   "metadata": {},
   "outputs": [],
   "source": []
  }
 ],
 "metadata": {
  "kernelspec": {
   "display_name": "Python 3",
   "language": "python",
   "name": "python3"
  },
  "language_info": {
   "codemirror_mode": {
    "name": "ipython",
    "version": 3
   },
   "file_extension": ".py",
   "mimetype": "text/x-python",
   "name": "python",
   "nbconvert_exporter": "python",
   "pygments_lexer": "ipython3",
   "version": "3.8.5"
  }
 },
 "nbformat": 4,
 "nbformat_minor": 4
}
