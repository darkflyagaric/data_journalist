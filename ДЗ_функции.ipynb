{
 "cells": [
  {
   "cell_type": "code",
   "execution_count": 3,
   "metadata": {},
   "outputs": [],
   "source": [
    "documents = [\n",
    "{'type': 'passport', 'number': '2207 876234', 'name': 'Василий Гупкин'},\n",
    "{'type': 'invoice', 'number': '11-2', 'name': 'Геннадий Покемонов'},\n",
    "{'type': 'insurance', 'number': '10006', 'name': 'Аристарх Павлов'}\n",
    "]\n",
    "directories = {\n",
    "'1': ['2207 876234', '11-2'],\n",
    "'2': ['10006'],\n",
    "'3': []\n",
    "}"
   ]
  },
  {
   "cell_type": "code",
   "execution_count": 12,
   "metadata": {},
   "outputs": [
    {
     "ename": "IndentationError",
     "evalue": "unexpected indent (<ipython-input-12-03409b21ccad>, line 6)",
     "output_type": "error",
     "traceback": [
      "\u001b[1;36m  File \u001b[1;32m\"<ipython-input-12-03409b21ccad>\"\u001b[1;36m, line \u001b[1;32m6\u001b[0m\n\u001b[1;33m    else:\u001b[0m\n\u001b[1;37m    ^\u001b[0m\n\u001b[1;31mIndentationError\u001b[0m\u001b[1;31m:\u001b[0m unexpected indent\n"
     ]
    }
   ],
   "source": [
    "def people(numbers):\n",
    "    for doc_numbers in documents:\n",
    "        if doc_numbers[\"number\"] == numbers:\n",
    "            print(doc_numbers[\"name\"])\n",
    "    break\n",
    "        else:\n",
    "    print('документ не найден в базе')\n",
    "    \n",
    "def shelf(numbers):\n",
    "    break_marker = False\n",
    "    for shelf_directories in directories.items():\n",
    "        for doc_numbers in shelf_directories[1]:\n",
    "            if doc_numbers == numbers:\n",
    "                print('документ хранится на полке:', shelf_directories[0])\n",
    "        break_marker = True\n",
    "        break\n",
    "    if break_marker == True:\n",
    "        break\n",
    "    else:\n",
    "        print('документ не найден в базе:')\n",
    "        \n",
    "def people_list():\n",
    "    for persons in documents:\n",
    "        print(persons['type'], '\"'+persons['number']+'\"', '\"'+persons['name']+'\"')\n",
    "        \n",
    "def add_shelf():\n",
    "    number = input(\"Введите номер новой полки: \")\n",
    "    directories[number] = []\n",
    "    \n",
    "while True:\n",
    "    command = input('введите команду:')\n",
    "    if command == 'p':\n",
    "        people(input('ведите номер документа:'))\n",
    "    elif command == 's':\n",
    "        shelf(input('ведите номер документа:'))  \n",
    "    elif command == 'l':\n",
    "        people_list()\n",
    "    elif command == 'as':\n",
    "        add_shelf()      \n",
    "    elif command == 'q':\n",
    "break\n"
   ]
  },
  {
   "cell_type": "code",
   "execution_count": null,
   "metadata": {},
   "outputs": [],
   "source": []
  }
 ],
 "metadata": {
  "kernelspec": {
   "display_name": "Python 3",
   "language": "python",
   "name": "python3"
  },
  "language_info": {
   "codemirror_mode": {
    "name": "ipython",
    "version": 3
   },
   "file_extension": ".py",
   "mimetype": "text/x-python",
   "name": "python",
   "nbconvert_exporter": "python",
   "pygments_lexer": "ipython3",
   "version": "3.8.5"
  }
 },
 "nbformat": 4,
 "nbformat_minor": 4
}
