{
 "cells": [
  {
   "cell_type": "code",
   "execution_count": 1,
   "metadata": {
    "scrolled": true
   },
   "outputs": [
    {
     "name": "stdout",
     "output_type": "stream",
     "text": [
      "введите команду:q\n"
     ]
    }
   ],
   "source": [
    "documents = [\n",
    "{'type': 'passport', 'number': '2207 876234', 'name': 'Василий Гупкин'},\n",
    "{'type': 'invoice', 'number': '11-2', 'name': 'Геннадий Покемонов'},\n",
    "{'type': 'insurance', 'number': '10006', 'name': 'Аристарх Павлов'}\n",
    "]\n",
    "directories = {\n",
    "'1': ['2207 876234', '11-2'],\n",
    "'2': ['10006'],\n",
    "'3': []\n",
    "}\n",
    "# Пользователь по команде “p” может узнать владельца документа по его номеру\n",
    "\n",
    "def people(numbers):\n",
    "    for doc_numbers in documents:\n",
    "        if doc_numbers[\"number\"] == numbers:\n",
    "            print(doc_numbers[\"name\"])\n",
    "    else:\n",
    "        print('документ не найден в базе')\n",
    "\n",
    "# Пользователь по команде “s” может по номеру документа узнать на какой полке он хранится\n",
    "def shelf(document_number):\n",
    "    for shelf_num in directories:\n",
    "        if document_number in directories[shelf_num]:\n",
    "            print('документ на полке:', shelf_num)\n",
    "    else:\n",
    "        print('документ не найден в базе')\n",
    "        \n",
    "# Пользователь по команде “l” может увидеть полную информацию по всем документам\n",
    "def people_list():\n",
    "      for shelf in directories:\n",
    "        for num in directories[shelf]:\n",
    "            found = next(e for e in documents if e['number'] == num)\n",
    "            print(f'№: {num}, тип:{found[\"type\"]}, владелец:{found[\"name\"]}, полка хранения: {shelf}')   \n",
    "\n",
    "# Пользователь по команде “as” может добавить новую полку      \n",
    "def add_shelf():\n",
    "    number = input(\"Введите номер новой полки: \")\n",
    "    if number not in directories.keys():\n",
    "        directories[number] = []\n",
    "        print('Полка добавлена. Текущий перечень полок:'+',' .join(directories.keys()))\n",
    "    else:\n",
    "        print('Такая полка уже существует. Текущий перечень полок:' .join(directories.keys()))\n",
    "\n",
    "# Пользователь по команде \"ds\" может удалить полку, если она пустая\n",
    "def del_shelf():\n",
    "    number = input(\"Введите номер полки: \")\n",
    "    for number in directories:\n",
    "        if len(directories[number]) > 0:\n",
    "             print('На полке есть документа, удалите их перед удалением полки. Текущий перечень полок:' .join(directories.keys()))\n",
    "        elif len(directories[number]) == 0:\n",
    "            del directories[number]\n",
    "            print('Полка удалена. Текущий перечень полок:'+',' .join(directories.keys()))\n",
    "\n",
    "while True:\n",
    "    command = input('введите команду:')\n",
    "    if command == 'p':\n",
    "        people(input('введите номер документа:'))\n",
    "    elif command == 's':\n",
    "        shelf(input('введите номер документа:'))  \n",
    "    elif command == 'l':\n",
    "        people_list()\n",
    "    elif command == 'as':\n",
    "        add_shelf()\n",
    "    elif command == 'ds':\n",
    "        del_shelf(input('ведите номер полки:'))\n",
    "    elif command == 'q':\n",
    "        break"
   ]
  }
 ],
 "metadata": {
  "kernelspec": {
   "display_name": "Python 3",
   "language": "python",
   "name": "python3"
  },
  "language_info": {
   "codemirror_mode": {
    "name": "ipython",
    "version": 3
   },
   "file_extension": ".py",
   "mimetype": "text/x-python",
   "name": "python",
   "nbconvert_exporter": "python",
   "pygments_lexer": "ipython3",
   "version": "3.8.5"
  }
 },
 "nbformat": 4,
 "nbformat_minor": 4
}
