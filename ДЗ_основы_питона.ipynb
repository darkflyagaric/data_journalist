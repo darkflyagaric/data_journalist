{
 "cells": [
  {
   "cell_type": "code",
   "execution_count": 80,
   "metadata": {},
   "outputs": [
    {
     "name": "stdout",
     "output_type": "stream",
     "text": [
      "фраза 1 длиннее фразы 2\n"
     ]
    }
   ],
   "source": [
    "# Задание 1\n",
    "phrase_1 = 'Насколько проще было бы писать программы, если бы не заказчики'\n",
    "phrase_2 = '640Кб должно хватить для любых задач. Билл Гейтс (по легенде)'\n",
    "if phrase_1 > phrase_2:\n",
    "    print ('фраза 1 длиннее фразы 2')"
   ]
  },
  {
   "cell_type": "code",
   "execution_count": 81,
   "metadata": {},
   "outputs": [
    {
     "name": "stdout",
     "output_type": "stream",
     "text": [
      "фраза 2 длиннее фразы 1\n"
     ]
    }
   ],
   "source": [
    "phrase_1 = '640Кб должно хватить для любых задач. Билл Гейтс (по легенде)'\n",
    "phrase_2 = 'Насколько проще было бы писать программы, если бы не заказчики'\n",
    "if phrase_1 < phrase_2:\n",
    "    print ('фраза 2 длиннее фразы 1')"
   ]
  },
  {
   "cell_type": "code",
   "execution_count": 79,
   "metadata": {},
   "outputs": [
    {
     "name": "stdout",
     "output_type": "stream",
     "text": [
      "фразы равной длины\n"
     ]
    }
   ],
   "source": [
    "phrase_1 = 'Насколько проще было бы писать программы, если бы не заказчики'\n",
    "phrase_2 = 'Насколько проще было бы писать программы, если бы не заказчики'\n",
    "if phrase_1 == phrase_2:\n",
    "    print ('фразы равной длины')"
   ]
  },
  {
   "cell_type": "code",
   "execution_count": 31,
   "metadata": {},
   "outputs": [
    {
     "name": "stdout",
     "output_type": "stream",
     "text": [
      "високосный год\n"
     ]
    }
   ],
   "source": [
    "# Задание 2\n",
    "year = 2020\n",
    "if year % 4 == 0 and year % 100 != 0 or year % 400 == 0:\n",
    "    print ('високосный год')\n",
    "else:\n",
    "    print ('обычный год')"
   ]
  },
  {
   "cell_type": "code",
   "execution_count": 54,
   "metadata": {},
   "outputs": [
    {
     "name": "stdout",
     "output_type": "stream",
     "text": [
      "введите день25\n",
      "введите месяцдекабрь\n",
      "ваш знак зодиака: Козерог\n"
     ]
    }
   ],
   "source": [
    "# Задание 3\n",
    "day = int(input('введите день')); month = input('введите месяц'); \n",
    "if (day >= 22 and day <= 31 and month == 'декабрь') or (day <= 19 and month == 'январь'):\n",
    "    print ('ваш знак зодиака: Козерог')\n",
    "elif (day >= 20 and day <= 31 and month == 'январь') or (day <= 19 and month == 'февраль'):\n",
    "    print ('ваш знак зодиака: Водолей')\n",
    "elif (day >= 20 and day <= 31 and month == 'февраль') or (day <= 21 and month == 'март'):\n",
    "    print ('ваш знак зодиака: Рыбы')\n",
    "elif (day >= 22 and day <= 31 and month == 'март') or (day <= 21 and month == 'апрель'):\n",
    "    print ('ваш знак зодиака: Овен')\n",
    "elif (day >= 22 and day <= 31 and month == 'апрель') or (day <= 21 and month == 'май'):\n",
    "    print ('ваш знак зодиака: Телец')\n",
    "elif (day >= 22 and day <= 31 and month == 'май') or (day <= 21 and month == 'июнь'):\n",
    "    print ('ваш знак зодиака: Близнецы')\n",
    "elif (day >= 22 and day <= 31 and month == 'июнь') or (day <= 21 and month == 'июль'):\n",
    "    print ('ваш знак зодиака: Рак')\n",
    "elif (day >= 22 and day <= 31 and month == 'июль') or (day <= 21 and month == 'август'):\n",
    "    print ('ваш знак зодиака: Лев')\n",
    "elif (day >= 22 and day <= 31 and month == 'август') or (day <= 21 and month == 'сентябрь'):\n",
    "    print ('ваш знак зодиака: Дева')\n",
    "elif (day >= 22 and day <= 31 and month == 'сентябрь') or (day <= 21 and month == 'октябрь'):\n",
    "    print ('ваш знак зодиака: Весы')\n",
    "elif (day >= 22 and day <= 31 and month == 'октябрь') or (day <= 20 and month == 'ноябрь'):\n",
    "    print ('ваш знак зодиака: Скорпион')\n",
    "elif (day >= 21 and day <= 31 and month == 'ноябрь') or (day <= 21 and month == 'декабрь'):\n",
    "    print ('ваш знак зодиака: Стрелец')"
   ]
  },
  {
   "cell_type": "code",
   "execution_count": 38,
   "metadata": {},
   "outputs": [
    {
     "name": "stdout",
     "output_type": "stream",
     "text": [
      "ширина20\n",
      "длина230\n",
      "высота44\n",
      "упаковка для лыж\n"
     ]
    }
   ],
   "source": [
    "# Задание 4\n",
    "width = int(input('ширина')); length = int(input('длина')); height = int(input('высота'))\n",
    "if length > 200:\n",
    "    print ('упаковка для лыж')\n",
    "elif width < 15 and length < 15 and user_input3 < 15:\n",
    "    print ('коробка №1')\n",
    "elif 15 < width < 50 or 15 < length < 50 or 15 < height < 50:\n",
    "    print ('коробка №2')\n",
    "else:\n",
    "    print ('стандартная коробка №3')"
   ]
  },
  {
   "cell_type": "code",
   "execution_count": null,
   "metadata": {},
   "outputs": [],
   "source": []
  }
 ],
 "metadata": {
  "kernelspec": {
   "display_name": "Python 3",
   "language": "python",
   "name": "python3"
  },
  "language_info": {
   "codemirror_mode": {
    "name": "ipython",
    "version": 3
   },
   "file_extension": ".py",
   "mimetype": "text/x-python",
   "name": "python",
   "nbconvert_exporter": "python",
   "pygments_lexer": "ipython3",
   "version": "3.8.5"
  }
 },
 "nbformat": 4,
 "nbformat_minor": 4
}
