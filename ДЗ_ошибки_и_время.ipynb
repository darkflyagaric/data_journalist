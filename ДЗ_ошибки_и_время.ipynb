{
 "cells": [
  {
   "cell_type": "code",
   "execution_count": 1,
   "metadata": {},
   "outputs": [],
   "source": [
    "#1) Для каждой газеты из списка напишите формат указанной даты для перевода в объект datetime\n",
    "#The Moscow Times - Wednesday, October 2, 2002\n",
    "#The Guardian - Friday, 11.10.13\n",
    "#Daily News - Thursday, 18 August 1977"
   ]
  },
  {
   "cell_type": "code",
   "execution_count": 9,
   "metadata": {},
   "outputs": [],
   "source": [
    "from datetime import datetime"
   ]
  },
  {
   "cell_type": "code",
   "execution_count": 35,
   "metadata": {},
   "outputs": [
    {
     "data": {
      "text/plain": [
       "'Wednesday, October 02, 2002'"
      ]
     },
     "execution_count": 35,
     "metadata": {},
     "output_type": "execute_result"
    }
   ],
   "source": [
    "#The Moscow Times\n",
    "date_MT = 'Wednesday, October 2, 2002' \n",
    "datetime.strptime('Wednesday, October 2, 2002', '%A, %B %d, %Y')\n",
    "data_MT1 = datetime.strptime(date_MT, '%A, %B %d, %Y')\n",
    "data_MT1.strftime('%A, %B %d, %Y')"
   ]
  },
  {
   "cell_type": "code",
   "execution_count": 36,
   "metadata": {},
   "outputs": [
    {
     "data": {
      "text/plain": [
       "'Friday, 11.10.13'"
      ]
     },
     "execution_count": 36,
     "metadata": {},
     "output_type": "execute_result"
    }
   ],
   "source": [
    "#The Guardian\n",
    "data_TG = 'Friday, 11.10.13'\n",
    "datetime.strptime('Friday, 11.10.13', '%A, %d.%m.%y')\n",
    "data_TG1 = datetime.strptime(data_TG, '%A, %d.%m.%y')\n",
    "data_TG1.strftime('%A, %d.%m.%y')"
   ]
  },
  {
   "cell_type": "code",
   "execution_count": 38,
   "metadata": {},
   "outputs": [
    {
     "data": {
      "text/plain": [
       "'Thursday, 18 August 1977'"
      ]
     },
     "execution_count": 38,
     "metadata": {},
     "output_type": "execute_result"
    }
   ],
   "source": [
    "#Daily News\n",
    "data_DN = 'Thursday, 18 August 1977'\n",
    "datetime.strptime('Thursday, 18 August 1977', '%A, %d %B %Y')\n",
    "data_DN1 = datetime.strptime(data_DN, '%A, %d %B %Y')\n",
    "data_DN1.strftime('%A, %d %B %Y')"
   ]
  },
  {
   "cell_type": "code",
   "execution_count": 33,
   "metadata": {},
   "outputs": [
    {
     "name": "stdout",
     "output_type": "stream",
     "text": [
      "True\n",
      "False\n",
      "False\n"
     ]
    }
   ],
   "source": [
    "#2) Напишите функцию, которая проверяет даты на корректность. \n",
    "#Т.е. для каждой даты возвращает True (дата корректна) или False (некорректная дата).\n",
    "stream = ['2018-04-02', '2018-02-29', '2018-19-02']\n",
    "\n",
    "from datetime import datetime\n",
    "def data(y, m, d):\n",
    "    try:\n",
    "        date(y, m, d)\n",
    "        return True\n",
    "    except:\n",
    "        return False\n",
    "print(data(2018, 4, 28))\n",
    "print(data(2018, 2, 29))\n",
    "print(data(2018, 19, 2))"
   ]
  },
  {
   "cell_type": "code",
   "execution_count": 3,
   "metadata": {},
   "outputs": [
    {
     "name": "stdout",
     "output_type": "stream",
     "text": [
      "2020-01-01 00:00:00\n",
      "2020-01-02 00:00:00\n",
      "2020-01-03 00:00:00\n",
      "2020-01-04 00:00:00\n",
      "2020-01-05 00:00:00\n",
      "2020-01-06 00:00:00\n",
      "2020-01-07 00:00:00\n",
      "2020-01-08 00:00:00\n",
      "2020-01-09 00:00:00\n",
      "2020-01-10 00:00:00\n"
     ]
    }
   ],
   "source": [
    "#3) Напишите функцию date_range, которая возвращает список дат за период от start_date до end_date.\n",
    "# В случае неверного формата или при start_date > end_date должен возвращаться пустой список.\n",
    "from datetime import timedelta\n",
    "from datetime import datetime\n",
    "start_date = '2020-01-01'\n",
    "end_date = '2020-01-10'\n",
    "start_date1 = datetime.strptime(start_date, '%Y-%m-%d')\n",
    "end_date1 = datetime.strptime(end_date, '%Y-%m-%d') \n",
    "\n",
    "data_range = end_date1 - start_date1\n",
    "\n",
    "for i in range(data_range.days + 1):\n",
    "    print(start_date1 + timedelta(i))\n",
    "if data_range.days <= 0:\n",
    "    print()"
   ]
  }
 ],
 "metadata": {
  "kernelspec": {
   "display_name": "Python 3",
   "language": "python",
   "name": "python3"
  },
  "language_info": {
   "codemirror_mode": {
    "name": "ipython",
    "version": 3
   },
   "file_extension": ".py",
   "mimetype": "text/x-python",
   "name": "python",
   "nbconvert_exporter": "python",
   "pygments_lexer": "ipython3",
   "version": "3.8.5"
  }
 },
 "nbformat": 4,
 "nbformat_minor": 4
}
