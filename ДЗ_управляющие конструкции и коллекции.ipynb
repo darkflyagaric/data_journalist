{
 "cells": [
  {
   "cell_type": "code",
   "execution_count": null,
   "metadata": {},
   "outputs": [],
   "source": [
    "# Задание1\n",
    "word = input('введите слово')\n",
    "word_length = len(word)\n",
    "half_length = word_length // 2\n",
    "if word_length % 2 == 0:\n",
    "    print(word[half_length - 1:half_length + 1])\n",
    "else:\n",
    "    print(word[half_length])"
   ]
  },
  {
   "cell_type": "code",
   "execution_count": null,
   "metadata": {},
   "outputs": [],
   "source": [
    "# Задание2\n",
    "total = 0\n",
    "while True:\n",
    "    current = int(input('введите число'))\n",
    "    if current != 0:\n",
    "        total += current\n",
    "    else:\n",
    "        print(total)\n",
    "        break"
   ]
  },
  {
   "cell_type": "code",
   "execution_count": 36,
   "metadata": {},
   "outputs": [
    {
     "name": "stdout",
     "output_type": "stream",
     "text": [
      "идеальные пары:\n",
      "Alex и Emma\n",
      "Arthur и Kate\n",
      "John и Kira\n",
      "Peter и Liza\n",
      "Richard и Trisha\n"
     ]
    }
   ],
   "source": [
    "# Задание3\n",
    "boys = ['Peter', 'Alex', 'John', 'Arthur', 'Richard',]\n",
    "girls = ['Kate', 'Liza', 'Kira', 'Emma', 'Trisha']\n",
    "if len(boys) == len(girls):\n",
    "    ideal_couple = zip(sorted(boys), sorted(girls))\n",
    "    print('идеальные пары:')\n",
    "    for boy, girl in ideal_couple:\n",
    "        print(boy + ' и ' + girl)\n",
    "else:\n",
    "    print('внимание, кто-то может остаться без пары!')"
   ]
  },
  {
   "cell_type": "code",
   "execution_count": 3,
   "metadata": {},
   "outputs": [
    {
     "name": "stdout",
     "output_type": "stream",
     "text": [
      "средняя температура в странах:\n",
      "Thailand - 23.86 C\n",
      "Germany - 13.8 C\n",
      "Russia - 3.71 C\n",
      "Poland - 12.0 C\n"
     ]
    }
   ],
   "source": [
    "# Задание4\n",
    "countries_temperature = [\n",
    "['Thailand', [75.2, 77, 78.8, 73.4, 68, 75.2, 77]],\n",
    "['Germany', [57.2, 55.4, 59, 59, 53.6]],\n",
    "['Russia', [35.6, 37.4, 39.2, 41, 42.8, 39.2, 35.6]],\n",
    "['Poland', [50, 50, 53.6, 57.2, 55.4, 55.4]]\n",
    "]\n",
    "print('средняя температура в странах:') \n",
    "for country in countries_temperature:\n",
    "    summa = sum(country[1])\n",
    "    temp_avg = summa / len(country[1])\n",
    "    temp_C = round((temp_avg-32)*5/9,2)\n",
    "    print(country[0], '-' , temp_C, 'C')"
   ]
  },
  {
   "cell_type": "code",
   "execution_count": 34,
   "metadata": {},
   "outputs": [
    {
     "name": "stdout",
     "output_type": "stream",
     "text": [
      "внимание, кто-то может остаться без пары!\n"
     ]
    }
   ],
   "source": [
    "boys = ['Peter', 'Alex', 'John', 'Arthur', 'Richard',]\n",
    "girls = ['Kate', 'Liza', 'Kira', 'Emma', 'Trisha']\n",
    "if len(boys) == len(girls):\n",
    "    ideal_couple = zip(sorted(boys), sorted(girls))\n",
    "    print('идеальные пары:')\n",
    "    for x in ideal_couple:\n",
    "        print(x[0] + ' и ' + x[1])\n",
    "else:\n",
    "    print('внимание, кто-то может остаться без пары!')"
   ]
  }
 ],
 "metadata": {
  "kernelspec": {
   "display_name": "Python 3",
   "language": "python",
   "name": "python3"
  },
  "language_info": {
   "codemirror_mode": {
    "name": "ipython",
    "version": 3
   },
   "file_extension": ".py",
   "mimetype": "text/x-python",
   "name": "python",
   "nbconvert_exporter": "python",
   "pygments_lexer": "ipython3",
   "version": "3.8.5"
  }
 },
 "nbformat": 4,
 "nbformat_minor": 4
}
